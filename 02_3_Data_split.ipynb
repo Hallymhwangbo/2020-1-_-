{
  "nbformat": 4,
  "nbformat_minor": 0,
  "metadata": {
    "colab": {
      "name": "02_3_Data_split.ipynb",
      "provenance": [],
      "collapsed_sections": [],
      "authorship_tag": "ABX9TyOycVYC5SrjIJqHgAjM4V7s",
      "include_colab_link": true
    },
    "kernelspec": {
      "name": "python3",
      "display_name": "Python 3"
    }
  },
  "cells": [
    {
      "cell_type": "markdown",
      "metadata": {
        "id": "view-in-github",
        "colab_type": "text"
      },
      "source": [
        "<a href=\"https://colab.research.google.com/github/Hallymhwangbo/2020-AI_minseo/blob/master/02_3_Data_split.ipynb\" target=\"_parent\"><img src=\"https://colab.research.google.com/assets/colab-badge.svg\" alt=\"Open In Colab\"/></a>"
      ]
    },
    {
      "cell_type": "code",
      "metadata": {
        "id": "KGBBbNcQHopE",
        "colab_type": "code",
        "colab": {}
      },
      "source": [
        "import numpy as np\n",
        "import matplotlib.pyplot as plt\n",
        "from sklearn.datasets import make_circles\n",
        "from sklearn.svm import SVC\n",
        "from sklearn.model_selection import train_test_split"
      ],
      "execution_count": 1,
      "outputs": []
    },
    {
      "cell_type": "markdown",
      "metadata": {
        "id": "4CKvcfmWlw9X",
        "colab_type": "text"
      },
      "source": [
        "## 데이터 준비하기"
      ]
    },
    {
      "cell_type": "code",
      "metadata": {
        "id": "P_dd6jNnkPAE",
        "colab_type": "code",
        "colab": {}
      },
      "source": [
        "noise = 0.08"
      ],
      "execution_count": 2,
      "outputs": []
    },
    {
      "cell_type": "code",
      "metadata": {
        "id": "uGgsF7nJIm_S",
        "colab_type": "code",
        "colab": {}
      },
      "source": [
        "X, Y = (make_circles(n_samples=1000, noise = noise))"
      ],
      "execution_count": 3,
      "outputs": []
    },
    {
      "cell_type": "code",
      "metadata": {
        "id": "xkM-U1-1hkMm",
        "colab_type": "code",
        "colab": {
          "base_uri": "https://localhost:8080/",
          "height": 35
        },
        "outputId": "7457d68b-7b8a-4903-dc27-74f3fed121ad"
      },
      "source": [
        "X.shape"
      ],
      "execution_count": 4,
      "outputs": [
        {
          "output_type": "execute_result",
          "data": {
            "text/plain": [
              "(1000, 2)"
            ]
          },
          "metadata": {
            "tags": []
          },
          "execution_count": 4
        }
      ]
    },
    {
      "cell_type": "code",
      "metadata": {
        "id": "beoevfeAJIyy",
        "colab_type": "code",
        "colab": {}
      },
      "source": [
        "x1 = X[:, 0]\n",
        "x2 = X[:, 1]"
      ],
      "execution_count": 5,
      "outputs": []
    },
    {
      "cell_type": "code",
      "metadata": {
        "id": "nMh1MR6AhEur",
        "colab_type": "code",
        "colab": {}
      },
      "source": [
        "x_train, x_test, y_train, y_test = train_test_split(X, Y, test_size=0.2)"
      ],
      "execution_count": 6,
      "outputs": []
    },
    {
      "cell_type": "code",
      "metadata": {
        "id": "m8rfGDkwh9D8",
        "colab_type": "code",
        "colab": {
          "base_uri": "https://localhost:8080/",
          "height": 35
        },
        "outputId": "eb499122-3fc2-4476-ceec-584ddfa39b3c"
      },
      "source": [
        "x_train.shape"
      ],
      "execution_count": 7,
      "outputs": [
        {
          "output_type": "execute_result",
          "data": {
            "text/plain": [
              "(800, 2)"
            ]
          },
          "metadata": {
            "tags": []
          },
          "execution_count": 7
        }
      ]
    },
    {
      "cell_type": "code",
      "metadata": {
        "id": "x5Uj452shrQ7",
        "colab_type": "code",
        "colab": {
          "base_uri": "https://localhost:8080/",
          "height": 35
        },
        "outputId": "735c81c6-8880-4cc2-939e-ac466f0dca91"
      },
      "source": [
        "x_test.shape"
      ],
      "execution_count": 8,
      "outputs": [
        {
          "output_type": "execute_result",
          "data": {
            "text/plain": [
              "(200, 2)"
            ]
          },
          "metadata": {
            "tags": []
          },
          "execution_count": 8
        }
      ]
    },
    {
      "cell_type": "code",
      "metadata": {
        "id": "_57XvdH2iTzs",
        "colab_type": "code",
        "colab": {
          "base_uri": "https://localhost:8080/",
          "height": 35
        },
        "outputId": "e8e59a7f-e5bf-4742-c1e9-590132fa93cf"
      },
      "source": [
        "y_train.shape"
      ],
      "execution_count": 9,
      "outputs": [
        {
          "output_type": "execute_result",
          "data": {
            "text/plain": [
              "(800,)"
            ]
          },
          "metadata": {
            "tags": []
          },
          "execution_count": 9
        }
      ]
    },
    {
      "cell_type": "code",
      "metadata": {
        "id": "GcvhRXcUiXDW",
        "colab_type": "code",
        "colab": {
          "base_uri": "https://localhost:8080/",
          "height": 35
        },
        "outputId": "37fd9330-6f9f-4ac4-fbc5-d5c3df4b4b8d"
      },
      "source": [
        "y_test.shape"
      ],
      "execution_count": 10,
      "outputs": [
        {
          "output_type": "execute_result",
          "data": {
            "text/plain": [
              "(200,)"
            ]
          },
          "metadata": {
            "tags": []
          },
          "execution_count": 10
        }
      ]
    },
    {
      "cell_type": "markdown",
      "metadata": {
        "id": "QJXfogKolsmI",
        "colab_type": "text"
      },
      "source": [
        "## 모델 정의하고 학습하기"
      ]
    },
    {
      "cell_type": "code",
      "metadata": {
        "id": "A82zvzg9Ndzu",
        "colab_type": "code",
        "colab": {}
      },
      "source": [
        "model1 = SVC(kernel ='rbf')"
      ],
      "execution_count": 11,
      "outputs": []
    },
    {
      "cell_type": "code",
      "metadata": {
        "id": "tqRWupMVOwZ_",
        "colab_type": "code",
        "colab": {
          "base_uri": "https://localhost:8080/",
          "height": 125
        },
        "outputId": "1e7f3ebf-a084-46b0-e697-c507591f1505"
      },
      "source": [
        "%%time\n",
        "model1.fit(x_train, y_train)"
      ],
      "execution_count": 12,
      "outputs": [
        {
          "output_type": "stream",
          "text": [
            "CPU times: user 19.2 ms, sys: 664 µs, total: 19.8 ms\n",
            "Wall time: 31.7 ms\n"
          ],
          "name": "stdout"
        },
        {
          "output_type": "execute_result",
          "data": {
            "text/plain": [
              "SVC(C=1.0, break_ties=False, cache_size=200, class_weight=None, coef0=0.0,\n",
              "    decision_function_shape='ovr', degree=3, gamma='scale', kernel='rbf',\n",
              "    max_iter=-1, probability=False, random_state=None, shrinking=True,\n",
              "    tol=0.001, verbose=False)"
            ]
          },
          "metadata": {
            "tags": []
          },
          "execution_count": 12
        }
      ]
    },
    {
      "cell_type": "code",
      "metadata": {
        "id": "VJ0x_5Ryja2O",
        "colab_type": "code",
        "colab": {}
      },
      "source": [
        "def PlotSVM(X, y, model, title=\"SVM\", xmin=-2, xmax=2, ymin=-2, ymax=2):\n",
        "  import matplotlib as mpl\n",
        "  XX, YY = np.meshgrid(np.arange(xmin, xmax, (xmax-xmin)/1000),\n",
        "  np.arange(ymin, ymax, (ymax-ymin)/1000))\n",
        "  ZZ = np.reshape(model.predict(\n",
        "  np.array([XX.ravel(), YY.ravel()]).T), XX.shape)\n",
        "  fig = plt.figure(figsize=(7,7))\n",
        "  plt.contourf(XX, YY, ZZ, cmap=mpl.cm.Paired_r, alpha=0.5)\n",
        "  plt.scatter(X[:, 0], X[:, 1], c=y)\n",
        "  plt.xlim(xmin, xmax)\n",
        "  plt.ylim(ymin, ymax)\n",
        "  plt.title(title)\n",
        "  plt.xlabel(\"x1\")\n",
        "  plt.ylabel(\"x2\")"
      ],
      "execution_count": 13,
      "outputs": []
    },
    {
      "cell_type": "code",
      "metadata": {
        "id": "F5UBlQE9PGh4",
        "colab_type": "code",
        "colab": {
          "base_uri": "https://localhost:8080/",
          "height": 172
        },
        "outputId": "379655b0-1145-473d-e1cf-37f132cfa72c"
      },
      "source": [
        "PlotSVM2D(x_train, y_train, model1, title='RBF')"
      ],
      "execution_count": 14,
      "outputs": [
        {
          "output_type": "error",
          "ename": "NameError",
          "evalue": "ignored",
          "traceback": [
            "\u001b[0;31m---------------------------------------------------------------------------\u001b[0m",
            "\u001b[0;31mNameError\u001b[0m                                 Traceback (most recent call last)",
            "\u001b[0;32m<ipython-input-14-5a7abcfc5761>\u001b[0m in \u001b[0;36m<module>\u001b[0;34m()\u001b[0m\n\u001b[0;32m----> 1\u001b[0;31m \u001b[0mPlotSVM2D\u001b[0m\u001b[0;34m(\u001b[0m\u001b[0mx_train\u001b[0m\u001b[0;34m,\u001b[0m \u001b[0my_train\u001b[0m\u001b[0;34m,\u001b[0m \u001b[0mmodel1\u001b[0m\u001b[0;34m,\u001b[0m \u001b[0mtitle\u001b[0m\u001b[0;34m=\u001b[0m\u001b[0;34m'RBF'\u001b[0m\u001b[0;34m)\u001b[0m\u001b[0;34m\u001b[0m\u001b[0;34m\u001b[0m\u001b[0m\n\u001b[0m",
            "\u001b[0;31mNameError\u001b[0m: name 'PlotSVM2D' is not defined"
          ]
        }
      ]
    },
    {
      "cell_type": "code",
      "metadata": {
        "id": "eRwwfFhbkoEx",
        "colab_type": "code",
        "colab": {}
      },
      "source": [
        "PlotSVM(x_test, y_test, model1,title=\"SVM Test Dataset RBF noise = {}\".format(noise))"
      ],
      "execution_count": null,
      "outputs": []
    },
    {
      "cell_type": "markdown",
      "metadata": {
        "id": "OiX0iSoplmVB",
        "colab_type": "text"
      },
      "source": [
        "## 예측하고 평가하기"
      ]
    },
    {
      "cell_type": "code",
      "metadata": {
        "id": "gteTlUB-lD2b",
        "colab_type": "code",
        "colab": {}
      },
      "source": [
        "predictions = model1.predict(x_test)"
      ],
      "execution_count": null,
      "outputs": []
    },
    {
      "cell_type": "code",
      "metadata": {
        "id": "C_wZnGtilJwW",
        "colab_type": "code",
        "colab": {}
      },
      "source": [
        "predictions"
      ],
      "execution_count": null,
      "outputs": []
    },
    {
      "cell_type": "code",
      "metadata": {
        "id": "XEV57PyvlMYB",
        "colab_type": "code",
        "colab": {}
      },
      "source": [
        "y_test"
      ],
      "execution_count": null,
      "outputs": []
    },
    {
      "cell_type": "code",
      "metadata": {
        "id": "7XE1dUk4lOZo",
        "colab_type": "code",
        "colab": {}
      },
      "source": [
        "model1.score(x_test, y_test)"
      ],
      "execution_count": null,
      "outputs": []
    },
    {
      "cell_type": "markdown",
      "metadata": {
        "id": "CWbnOmbBlUVw",
        "colab_type": "text"
      },
      "source": [
        "## Confusion Matrix"
      ]
    },
    {
      "cell_type": "code",
      "metadata": {
        "id": "YSu-1Uu9lYXR",
        "colab_type": "code",
        "colab": {}
      },
      "source": [
        "import pandas as pd"
      ],
      "execution_count": null,
      "outputs": []
    },
    {
      "cell_type": "code",
      "metadata": {
        "id": "SAydqnKllbev",
        "colab_type": "code",
        "colab": {}
      },
      "source": [
        "conf_matrix = pd.crosstab(y_test, predictions)\n",
        "print(conf_matrix)"
      ],
      "execution_count": null,
      "outputs": []
    },
    {
      "cell_type": "code",
      "metadata": {
        "id": "pDELRH8kldeZ",
        "colab_type": "code",
        "colab": {}
      },
      "source": [
        "y_test.shape"
      ],
      "execution_count": null,
      "outputs": []
    },
    {
      "cell_type": "code",
      "metadata": {
        "id": "umhrcoyqlfOI",
        "colab_type": "code",
        "colab": {}
      },
      "source": [
        "predictions.shape"
      ],
      "execution_count": null,
      "outputs": []
    }
  ]
}